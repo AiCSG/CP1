{
 "cells": [
  {
   "cell_type": "code",
   "id": "initial_id",
   "metadata": {
    "collapsed": true,
    "ExecuteTime": {
     "end_time": "2024-05-23T06:13:20.921638Z",
     "start_time": "2024-05-23T06:13:20.914506Z"
    }
   },
   "source": [
    "import numpy as np\n",
    "import pandas as pd"
   ],
   "outputs": [],
   "execution_count": 2
  },
  {
   "metadata": {
    "ExecuteTime": {
     "end_time": "2024-05-23T07:34:47.155758Z",
     "start_time": "2024-05-23T07:34:47.149384Z"
    }
   },
   "cell_type": "code",
   "source": [
    "a = [[1,2,3],[4,5,6],[7,8,9]]\n",
    "dataset = pd.DataFrame(a)\n",
    "dataset"
   ],
   "id": "d5e388cff615be04",
   "outputs": [
    {
     "data": {
      "text/plain": [
       "   0  1  2\n",
       "0  1  2  3\n",
       "1  4  5  6\n",
       "2  7  8  9"
      ],
      "text/html": [
       "<div>\n",
       "<style scoped>\n",
       "    .dataframe tbody tr th:only-of-type {\n",
       "        vertical-align: middle;\n",
       "    }\n",
       "\n",
       "    .dataframe tbody tr th {\n",
       "        vertical-align: top;\n",
       "    }\n",
       "\n",
       "    .dataframe thead th {\n",
       "        text-align: right;\n",
       "    }\n",
       "</style>\n",
       "<table border=\"1\" class=\"dataframe\">\n",
       "  <thead>\n",
       "    <tr style=\"text-align: right;\">\n",
       "      <th></th>\n",
       "      <th>0</th>\n",
       "      <th>1</th>\n",
       "      <th>2</th>\n",
       "    </tr>\n",
       "  </thead>\n",
       "  <tbody>\n",
       "    <tr>\n",
       "      <th>0</th>\n",
       "      <td>1</td>\n",
       "      <td>2</td>\n",
       "      <td>3</td>\n",
       "    </tr>\n",
       "    <tr>\n",
       "      <th>1</th>\n",
       "      <td>4</td>\n",
       "      <td>5</td>\n",
       "      <td>6</td>\n",
       "    </tr>\n",
       "    <tr>\n",
       "      <th>2</th>\n",
       "      <td>7</td>\n",
       "      <td>8</td>\n",
       "      <td>9</td>\n",
       "    </tr>\n",
       "  </tbody>\n",
       "</table>\n",
       "</div>"
      ]
     },
     "execution_count": 93,
     "metadata": {},
     "output_type": "execute_result"
    }
   ],
   "execution_count": 93
  },
  {
   "metadata": {
    "ExecuteTime": {
     "end_time": "2024-05-23T07:38:20.881184Z",
     "start_time": "2024-05-23T07:38:20.873246Z"
    }
   },
   "cell_type": "code",
   "source": [
    "bool_ = dataset - np.mean(dataset) >= dataset.std()\n",
    "pd.DataFrame(bool_)"
   ],
   "id": "9edfc25d821365a2",
   "outputs": [
    {
     "data": {
      "text/plain": [
       "       0      1      2\n",
       "0  False  False  False\n",
       "1  False  False  False\n",
       "2  False   True   True"
      ],
      "text/html": [
       "<div>\n",
       "<style scoped>\n",
       "    .dataframe tbody tr th:only-of-type {\n",
       "        vertical-align: middle;\n",
       "    }\n",
       "\n",
       "    .dataframe tbody tr th {\n",
       "        vertical-align: top;\n",
       "    }\n",
       "\n",
       "    .dataframe thead th {\n",
       "        text-align: right;\n",
       "    }\n",
       "</style>\n",
       "<table border=\"1\" class=\"dataframe\">\n",
       "  <thead>\n",
       "    <tr style=\"text-align: right;\">\n",
       "      <th></th>\n",
       "      <th>0</th>\n",
       "      <th>1</th>\n",
       "      <th>2</th>\n",
       "    </tr>\n",
       "  </thead>\n",
       "  <tbody>\n",
       "    <tr>\n",
       "      <th>0</th>\n",
       "      <td>False</td>\n",
       "      <td>False</td>\n",
       "      <td>False</td>\n",
       "    </tr>\n",
       "    <tr>\n",
       "      <th>1</th>\n",
       "      <td>False</td>\n",
       "      <td>False</td>\n",
       "      <td>False</td>\n",
       "    </tr>\n",
       "    <tr>\n",
       "      <th>2</th>\n",
       "      <td>False</td>\n",
       "      <td>True</td>\n",
       "      <td>True</td>\n",
       "    </tr>\n",
       "  </tbody>\n",
       "</table>\n",
       "</div>"
      ]
     },
     "execution_count": 104,
     "metadata": {},
     "output_type": "execute_result"
    }
   ],
   "execution_count": 104
  },
  {
   "metadata": {
    "ExecuteTime": {
     "end_time": "2024-05-23T06:49:02.947114Z",
     "start_time": "2024-05-23T06:49:02.941206Z"
    }
   },
   "cell_type": "code",
   "source": "sin_.apply(np.max, axis=1)",
   "id": "d3303708977cd308",
   "outputs": [
    {
     "data": {
      "text/plain": [
       "0    0.909297\n",
       "1   -0.279415\n",
       "2    0.989358\n",
       "dtype: float64"
      ]
     },
     "execution_count": 86,
     "metadata": {},
     "output_type": "execute_result"
    }
   ],
   "execution_count": 86
  },
  {
   "metadata": {
    "ExecuteTime": {
     "end_time": "2024-05-23T06:24:01.489928Z",
     "start_time": "2024-05-23T06:24:01.482514Z"
    }
   },
   "cell_type": "code",
   "source": [
    "dataset.drop(2, axis=1)\n",
    "dataset"
   ],
   "id": "be3d1a46ed6759ad",
   "outputs": [
    {
     "data": {
      "text/plain": [
       "    0   1   2   3\n",
       "0   1   2   3   3\n",
       "1   4   5   6   6\n",
       "2   7   8   9   9\n",
       "3  10  11  12  12"
      ],
      "text/html": [
       "<div>\n",
       "<style scoped>\n",
       "    .dataframe tbody tr th:only-of-type {\n",
       "        vertical-align: middle;\n",
       "    }\n",
       "\n",
       "    .dataframe tbody tr th {\n",
       "        vertical-align: top;\n",
       "    }\n",
       "\n",
       "    .dataframe thead th {\n",
       "        text-align: right;\n",
       "    }\n",
       "</style>\n",
       "<table border=\"1\" class=\"dataframe\">\n",
       "  <thead>\n",
       "    <tr style=\"text-align: right;\">\n",
       "      <th></th>\n",
       "      <th>0</th>\n",
       "      <th>1</th>\n",
       "      <th>2</th>\n",
       "      <th>3</th>\n",
       "    </tr>\n",
       "  </thead>\n",
       "  <tbody>\n",
       "    <tr>\n",
       "      <th>0</th>\n",
       "      <td>1</td>\n",
       "      <td>2</td>\n",
       "      <td>3</td>\n",
       "      <td>3</td>\n",
       "    </tr>\n",
       "    <tr>\n",
       "      <th>1</th>\n",
       "      <td>4</td>\n",
       "      <td>5</td>\n",
       "      <td>6</td>\n",
       "      <td>6</td>\n",
       "    </tr>\n",
       "    <tr>\n",
       "      <th>2</th>\n",
       "      <td>7</td>\n",
       "      <td>8</td>\n",
       "      <td>9</td>\n",
       "      <td>9</td>\n",
       "    </tr>\n",
       "    <tr>\n",
       "      <th>3</th>\n",
       "      <td>10</td>\n",
       "      <td>11</td>\n",
       "      <td>12</td>\n",
       "      <td>12</td>\n",
       "    </tr>\n",
       "  </tbody>\n",
       "</table>\n",
       "</div>"
      ]
     },
     "execution_count": 33,
     "metadata": {},
     "output_type": "execute_result"
    }
   ],
   "execution_count": 33
  },
  {
   "metadata": {
    "ExecuteTime": {
     "end_time": "2024-05-23T06:26:48.668322Z",
     "start_time": "2024-05-23T06:26:48.660231Z"
    }
   },
   "cell_type": "code",
   "source": "dataset.mean()",
   "id": "35a5867b360b5fb0",
   "outputs": [
    {
     "data": {
      "text/plain": [
       "0    5.5\n",
       "1    6.5\n",
       "2    7.5\n",
       "3    7.5\n",
       "dtype: float64"
      ]
     },
     "execution_count": 37,
     "metadata": {},
     "output_type": "execute_result"
    }
   ],
   "execution_count": 37
  },
  {
   "metadata": {
    "ExecuteTime": {
     "end_time": "2024-05-23T06:27:31.441020Z",
     "start_time": "2024-05-23T06:27:31.434531Z"
    }
   },
   "cell_type": "code",
   "source": "dataset.mean(axis=1)",
   "id": "699ad75a7f7492c4",
   "outputs": [
    {
     "data": {
      "text/plain": [
       "0     2.25\n",
       "1     5.25\n",
       "2     8.25\n",
       "3    11.25\n",
       "dtype: float64"
      ]
     },
     "execution_count": 40,
     "metadata": {},
     "output_type": "execute_result"
    }
   ],
   "execution_count": 40
  },
  {
   "metadata": {
    "ExecuteTime": {
     "end_time": "2024-05-23T06:30:21.756470Z",
     "start_time": "2024-05-23T06:30:21.750795Z"
    }
   },
   "cell_type": "code",
   "source": "dataset.apply(np.max, axis=1)",
   "id": "ad8f4dcc918f3a66",
   "outputs": [
    {
     "data": {
      "text/plain": [
       "0     3\n",
       "1     6\n",
       "2     9\n",
       "3    12\n",
       "dtype: int64"
      ]
     },
     "execution_count": 51,
     "metadata": {},
     "output_type": "execute_result"
    }
   ],
   "execution_count": 51
  },
  {
   "metadata": {
    "ExecuteTime": {
     "end_time": "2024-05-23T06:31:05.319978Z",
     "start_time": "2024-05-23T06:31:05.308583Z"
    }
   },
   "cell_type": "code",
   "source": "dataset.value_counts()",
   "id": "e6380f58cdfd15f4",
   "outputs": [
    {
     "data": {
      "text/plain": [
       "0   1   2   3 \n",
       "1   2   3   3     1\n",
       "4   5   6   6     1\n",
       "7   8   9   9     1\n",
       "10  11  12  12    1\n",
       "Name: count, dtype: int64"
      ]
     },
     "execution_count": 57,
     "metadata": {},
     "output_type": "execute_result"
    }
   ],
   "execution_count": 57
  },
  {
   "metadata": {
    "ExecuteTime": {
     "end_time": "2024-05-23T06:33:38.843332Z",
     "start_time": "2024-05-23T06:33:38.836262Z"
    }
   },
   "cell_type": "code",
   "source": [
    "dataset.loc[0] = [0] * 4\n",
    "dataset.loc[1] = dataset.loc[0]\n",
    "dataset"
   ],
   "id": "8ad2e0f6eef5cf4d",
   "outputs": [
    {
     "data": {
      "text/plain": [
       "    0   1   2   3\n",
       "0   0   0   0   0\n",
       "1   0   0   0   0\n",
       "2   7   8   9   9\n",
       "3  10  11  12  12"
      ],
      "text/html": [
       "<div>\n",
       "<style scoped>\n",
       "    .dataframe tbody tr th:only-of-type {\n",
       "        vertical-align: middle;\n",
       "    }\n",
       "\n",
       "    .dataframe tbody tr th {\n",
       "        vertical-align: top;\n",
       "    }\n",
       "\n",
       "    .dataframe thead th {\n",
       "        text-align: right;\n",
       "    }\n",
       "</style>\n",
       "<table border=\"1\" class=\"dataframe\">\n",
       "  <thead>\n",
       "    <tr style=\"text-align: right;\">\n",
       "      <th></th>\n",
       "      <th>0</th>\n",
       "      <th>1</th>\n",
       "      <th>2</th>\n",
       "      <th>3</th>\n",
       "    </tr>\n",
       "  </thead>\n",
       "  <tbody>\n",
       "    <tr>\n",
       "      <th>0</th>\n",
       "      <td>0</td>\n",
       "      <td>0</td>\n",
       "      <td>0</td>\n",
       "      <td>0</td>\n",
       "    </tr>\n",
       "    <tr>\n",
       "      <th>1</th>\n",
       "      <td>0</td>\n",
       "      <td>0</td>\n",
       "      <td>0</td>\n",
       "      <td>0</td>\n",
       "    </tr>\n",
       "    <tr>\n",
       "      <th>2</th>\n",
       "      <td>7</td>\n",
       "      <td>8</td>\n",
       "      <td>9</td>\n",
       "      <td>9</td>\n",
       "    </tr>\n",
       "    <tr>\n",
       "      <th>3</th>\n",
       "      <td>10</td>\n",
       "      <td>11</td>\n",
       "      <td>12</td>\n",
       "      <td>12</td>\n",
       "    </tr>\n",
       "  </tbody>\n",
       "</table>\n",
       "</div>"
      ]
     },
     "execution_count": 62,
     "metadata": {},
     "output_type": "execute_result"
    }
   ],
   "execution_count": 62
  },
  {
   "metadata": {
    "ExecuteTime": {
     "end_time": "2024-05-23T06:33:40.978089Z",
     "start_time": "2024-05-23T06:33:40.970691Z"
    }
   },
   "cell_type": "code",
   "source": "dataset.value_counts()",
   "id": "e49a51d770c5250d",
   "outputs": [
    {
     "data": {
      "text/plain": [
       "0   1   2   3 \n",
       "0   0   0   0     2\n",
       "7   8   9   9     1\n",
       "10  11  12  12    1\n",
       "Name: count, dtype: int64"
      ]
     },
     "execution_count": 63,
     "metadata": {},
     "output_type": "execute_result"
    }
   ],
   "execution_count": 63
  },
  {
   "metadata": {
    "ExecuteTime": {
     "end_time": "2024-05-23T06:36:28.319409Z",
     "start_time": "2024-05-23T06:36:28.313676Z"
    }
   },
   "cell_type": "code",
   "source": [
    "dataset.loc[0] = [1, 2, 3, 4]\n",
    "dataset.loc[1] = [5, 6, 7, 8]"
   ],
   "id": "8bcf02fe696d5ec6",
   "outputs": [],
   "execution_count": 67
  },
  {
   "metadata": {
    "ExecuteTime": {
     "end_time": "2024-05-23T06:36:33.322327Z",
     "start_time": "2024-05-23T06:36:33.315260Z"
    }
   },
   "cell_type": "code",
   "source": "dataset.corr()",
   "id": "87669db047a6db57",
   "outputs": [
    {
     "data": {
      "text/plain": [
       "          0         1         2         3\n",
       "0  1.000000  1.000000  1.000000  0.995526\n",
       "1  1.000000  1.000000  1.000000  0.995526\n",
       "2  1.000000  1.000000  1.000000  0.995526\n",
       "3  0.995526  0.995526  0.995526  1.000000"
      ],
      "text/html": [
       "<div>\n",
       "<style scoped>\n",
       "    .dataframe tbody tr th:only-of-type {\n",
       "        vertical-align: middle;\n",
       "    }\n",
       "\n",
       "    .dataframe tbody tr th {\n",
       "        vertical-align: top;\n",
       "    }\n",
       "\n",
       "    .dataframe thead th {\n",
       "        text-align: right;\n",
       "    }\n",
       "</style>\n",
       "<table border=\"1\" class=\"dataframe\">\n",
       "  <thead>\n",
       "    <tr style=\"text-align: right;\">\n",
       "      <th></th>\n",
       "      <th>0</th>\n",
       "      <th>1</th>\n",
       "      <th>2</th>\n",
       "      <th>3</th>\n",
       "    </tr>\n",
       "  </thead>\n",
       "  <tbody>\n",
       "    <tr>\n",
       "      <th>0</th>\n",
       "      <td>1.000000</td>\n",
       "      <td>1.000000</td>\n",
       "      <td>1.000000</td>\n",
       "      <td>0.995526</td>\n",
       "    </tr>\n",
       "    <tr>\n",
       "      <th>1</th>\n",
       "      <td>1.000000</td>\n",
       "      <td>1.000000</td>\n",
       "      <td>1.000000</td>\n",
       "      <td>0.995526</td>\n",
       "    </tr>\n",
       "    <tr>\n",
       "      <th>2</th>\n",
       "      <td>1.000000</td>\n",
       "      <td>1.000000</td>\n",
       "      <td>1.000000</td>\n",
       "      <td>0.995526</td>\n",
       "    </tr>\n",
       "    <tr>\n",
       "      <th>3</th>\n",
       "      <td>0.995526</td>\n",
       "      <td>0.995526</td>\n",
       "      <td>0.995526</td>\n",
       "      <td>1.000000</td>\n",
       "    </tr>\n",
       "  </tbody>\n",
       "</table>\n",
       "</div>"
      ]
     },
     "execution_count": 68,
     "metadata": {},
     "output_type": "execute_result"
    }
   ],
   "execution_count": 68
  },
  {
   "metadata": {
    "ExecuteTime": {
     "end_time": "2024-05-23T06:44:16.304438Z",
     "start_time": "2024-05-23T06:44:16.297297Z"
    }
   },
   "cell_type": "code",
   "source": [
    "a = dataset.mean()\n",
    "list(a)"
   ],
   "id": "687a6634bffda967",
   "outputs": [
    {
     "data": {
      "text/plain": [
       "[5.75, 6.75, 7.75, 8.25]"
      ]
     },
     "execution_count": 77,
     "metadata": {},
     "output_type": "execute_result"
    }
   ],
   "execution_count": 77
  },
  {
   "metadata": {
    "ExecuteTime": {
     "end_time": "2024-05-23T06:43:13.722533Z",
     "start_time": "2024-05-23T06:43:13.719102Z"
    }
   },
   "cell_type": "code",
   "source": "",
   "id": "bee6a1ea4195901a",
   "outputs": [
    {
     "name": "stdout",
     "output_type": "stream",
     "text": [
      "[[1, 2, 3], [4, 5, 6], [7, 8, 9]]\n"
     ]
    }
   ],
   "execution_count": 72
  },
  {
   "metadata": {},
   "cell_type": "code",
   "outputs": [],
   "execution_count": null,
   "source": "",
   "id": "3abc656507b40f8"
  }
 ],
 "metadata": {
  "kernelspec": {
   "display_name": "Python 3",
   "language": "python",
   "name": "python3"
  },
  "language_info": {
   "codemirror_mode": {
    "name": "ipython",
    "version": 2
   },
   "file_extension": ".py",
   "mimetype": "text/x-python",
   "name": "python",
   "nbconvert_exporter": "python",
   "pygments_lexer": "ipython2",
   "version": "2.7.6"
  }
 },
 "nbformat": 4,
 "nbformat_minor": 5
}
